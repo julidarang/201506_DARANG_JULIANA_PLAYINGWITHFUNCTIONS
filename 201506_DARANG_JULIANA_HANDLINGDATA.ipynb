{
 "cells": [
  {
   "cell_type": "markdown",
   "id": "a7a18ab7-857c-4048-95ee-1db4fcb5c7c5",
   "metadata": {},
   "source": [
    "# Assignment: Handling Data\n",
    "\n",
    "This problem set aims to solidify your understanding of the first half of Module 4 (intermediate data types).  \n",
    "\n",
    "Please follow all instructions precisely."
   ]
  },
  {
   "cell_type": "markdown",
   "id": "0cb9e186-7c09-49c5-837e-416a92c9d029",
   "metadata": {},
   "source": [
    "## Problem 1: Social Media Relationships (9 points) \n",
    "\n",
    "Let us pretend that you are building a new app. Your app supports social media functionality, which means that users can have _relationships_ with other users.  \n",
    "\n",
    "There are two guidelines for describing relationships on this social media app:  \n",
    "1. Any user can _follow_ any other user.  \n",
    "2. If two users follow each other, they are considered _friends_.  \n",
    "\n",
    "Data about your users and their followers is stored in a dictionary that adheres to this structure:  "
   ]
  },
  {
   "cell_type": "code",
   "execution_count": 2,
   "id": "83187137-7c74-4fe6-8b47-59d46be52287",
   "metadata": {},
   "outputs": [],
   "source": [
    "# NON-INTERACTIVE CODE CELL. YOU MAY RUN THIS CELL, BUT DO NOT EDIT IT.\n",
    "# FOR DEMONSTRATION PURPOSES ONLY. DO NOT EDIT.\n",
    "\n",
    "social_graph = {\n",
    "    \"@bongolpoc\":{\"first_name\":\"Joselito\",\n",
    "                  \"last_name\":\"Olpoc\",\n",
    "                  \"following\":[\n",
    "                  ]\n",
    "    },\n",
    "    \"@joaquin\":  {\"first_name\":\"Joaquin\",\n",
    "                  \"last_name\":\"Gonzales\",\n",
    "                  \"following\":[\n",
    "                      \"@chums\",\"@jobenilagan\"\n",
    "                  ]\n",
    "    },\n",
    "    \"@chums\" : {\"first_name\":\"Matthew\",\n",
    "                \"last_name\":\"Uy\",\n",
    "                \"following\":[\n",
    "                    \"@bongolpoc\",\"@miketan\",\"@rudyang\",\"@joeilagan\"\n",
    "                ]\n",
    "    },\n",
    "    \"@jobenilagan\":{\"first_name\":\"Joben\",\n",
    "                   \"last_name\":\"Ilagan\",\n",
    "                   \"following\":[\n",
    "                    \"@eeebeee\",\"@joeilagan\",\"@chums\",\"@joaquin\"\n",
    "                   ]\n",
    "    },\n",
    "    \"@joeilagan\":{\"first_name\":\"Joe\",\n",
    "                  \"last_name\":\"Ilagan\",\n",
    "                  \"following\":[\n",
    "                    \"@eeebeee\",\"@jobenilagan\",\"@chums\"\n",
    "                  ]\n",
    "    },\n",
    "    \"@eeebeee\":  {\"first_name\":\"Elizabeth\",\n",
    "                  \"last_name\":\"Ilagan\",\n",
    "                  \"following\":[\n",
    "                    \"@jobenilagan\",\"@joeilagan\"\n",
    "                  ]\n",
    "    },\n",
    "}"
   ]
  },
  {
   "cell_type": "markdown",
   "id": "657d62e9-43d2-4beb-82ed-d6cdfec26301",
   "metadata": {},
   "source": [
    "**Write a function called `relationship_status` that takes three positional arguments: (str) `from_member`, (str) `to_member`, and (dict) `social_graph`. The function should determine the _relationship status_ of the first member to the second member based on the data stored in the social graph. The function should _return_ one of these values depending on what is appropriate:**  \n",
    "- \"follower\", if `from_member` follows `to_member`\n",
    "- \"followed by\", if `from_member` is followed by `to_member`\n",
    "- \"friends\", if `from_member` and `to_member` follow each other\n",
    "- None if none of the above scenarios are applicable  \n",
    "\n",
    "Specifications:  \n",
    "1. `from_member` and `to_member` are user IDs (e.g. \"@jobenilagan\").\n",
    "2. `social_graph` is a dictionary that adheres to the specification demonstrated in the demo cell."
   ]
  },
  {
   "cell_type": "code",
   "execution_count": 3,
   "id": "7a5172a3-ccb4-469f-a613-05dff7cee411",
   "metadata": {},
   "outputs": [
    {
     "data": {
      "text/plain": [
       "'followed by'"
      ]
     },
     "execution_count": 3,
     "metadata": {},
     "output_type": "execute_result"
    }
   ],
   "source": [
    "# CODE CELL\n",
    "# PROBLEM 1\n",
    "\n",
    "def relationship_status(from_member, to_member, social_graph):\n",
    "    if to_member in social_graph[from_member][\"following\"] and from_member in social_graph[to_member][\"following\"]:\n",
    "        return \"friends\"\n",
    "    elif to_member in social_graph[from_member][\"following\"]:\n",
    "        return \"follower\"\n",
    "    elif from_member in social_graph[to_member][\"following\"]:\n",
    "        return \"followed by\"\n",
    "    else:\n",
    "        return None\n",
    "    \n",
    "relationship_status(\"@bongolpoc\", \"@chums\", social_graph)"
   ]
  },
  {
   "cell_type": "markdown",
   "id": "4e9c5e77-3d06-45bf-841f-3f565486cafe",
   "metadata": {},
   "source": [
    "## Problem 2: Tic Tac Toe (10 points)  \n",
    "\n",
    "Tic Tac Toe is a common paper-and-pencil game. Players must attempt to successfully draw a straight line of their symbol across a grid. The player that does this first is considered the winner.  \n",
    "\n",
    "Here are several possible board configurations:"
   ]
  },
  {
   "cell_type": "code",
   "execution_count": 4,
   "id": "dcaf04ae-1b0d-4b93-8aa0-8f891b9afe7c",
   "metadata": {},
   "outputs": [],
   "source": [
    "# NON-INTERACTIVE CODE CELL. YOU MAY RUN THIS CELL, BUT DO NOT EDIT IT.\n",
    "# FOR DEMONSTRATION PURPOSES ONLY. DO NOT EDIT.\n",
    "\n",
    "board1 = [\n",
    "['X','X','O'],\n",
    "['O','X','O'],\n",
    "['O','','X'],\n",
    "]\n",
    "\n",
    "board2 = [\n",
    "['X','X','O'],\n",
    "['O','X','O'],\n",
    "['','O','X'],\n",
    "]\n",
    "\n",
    "board3 = [\n",
    "['O','X','O'],\n",
    "['','O','X'],\n",
    "['X','X','O'],\n",
    "]\n",
    "\n",
    "board4 = [\n",
    "['X','X','X'],\n",
    "['O','X','O'],\n",
    "['O','','O'],\n",
    "]\n",
    "\n",
    "board5 = [\n",
    "['X','X','O'],\n",
    "['O','X','O'],\n",
    "['X','','O'],\n",
    "]\n",
    "\n",
    "board6 = [\n",
    "['X','X','O'],\n",
    "['O','X','O'],\n",
    "['X','',''],\n",
    "]\n",
    "\n",
    "board7 = [\n",
    "['X','X','O','X','X'],\n",
    "['O','X','O','X','X'],\n",
    "['X','','O','','X'],\n",
    "['O','X','O','O','X'],\n",
    "['X','','','','X'],\n",
    "]"
   ]
  },
  {
   "cell_type": "markdown",
   "id": "3141c650-186d-4750-8dd6-3a4ea55e6686",
   "metadata": {},
   "source": [
    "**Write a function called `tic_tac_toe` that takes one positional argument (list) `board`. The function should _return_ the winner of the board if there is one, and it should return `None` if there is no winner on the board.**  \n",
    "\n",
    "Specifications:\n",
    "1. Each player is represented by their symbol. Example: if the player using 'X' won the board, then simply return the string 'X'.\n",
    "2. The board may be 3x3, 4x4, 5x5, or 6x6.\n",
    "3. The game will only ever be player X vs player O. No other symbols will be used.\n",
    "4. There may be no winner, and there may be 1 winner, but there will never be a situation where there is more than 1 winner."
   ]
  },
  {
   "cell_type": "code",
   "execution_count": 5,
   "id": "3be25cca-613e-4e5a-ac1d-87f9686b0bb8",
   "metadata": {},
   "outputs": [
    {
     "data": {
      "text/plain": [
       "'O'"
      ]
     },
     "execution_count": 5,
     "metadata": {},
     "output_type": "execute_result"
    }
   ],
   "source": [
    "# CODE CELL\n",
    "# PROBLEM 2\n",
    "\n",
    "def tic_tac_toe(board):\n",
    "    if all(\"X\" in board[i][i] for i in range(len(board))) == True:\n",
    "        return \"X\"\n",
    "    elif all(\"O\" in board[i][i] for i in range(len(board))) == True:\n",
    "        return \"O\"\n",
    "    elif all(\"X\" in board[i][len(board) - 1 - i] for i in range(len(board))) == True:\n",
    "        return \"X\"\n",
    "    elif all(\"O\" in board[i][len(board) - 1 - i] for i in range(len(board))) == True:\n",
    "        return \"O\"\n",
    "    else:\n",
    "        for length in range(len(board)):\n",
    "            if all(x == \"X\" for x in [i for i in zip(*board)][length]) == True:\n",
    "                return \"X\"\n",
    "            elif all([x == \"O\" for x in [i for i in zip(*board)][length]]) == True:\n",
    "                return \"O\" \n",
    "            elif all([x == \"X\" for x in board[length]]) == True:\n",
    "                return \"X\"\n",
    "            elif all([x == \"O\" for x in board[length]]) == True:\n",
    "                return \"O\"\n",
    "\n",
    "tic_tac_toe(board5)"
   ]
  },
  {
   "cell_type": "markdown",
   "id": "45a0dd21-590a-436c-8d06-73b85562c291",
   "metadata": {},
   "source": [
    "## Problem 3: Routing (9 points)\n",
    "\n",
    "During the pandemic, a shuttle van service is tasked to travel along a predefined circular route as follows:\n",
    "\n",
    "- UP Diliman -> Ateneo de Manila (Estimated Time: 10 mins)\n",
    "- Ateneo de Manila -> De La Salle Taft (Estimated Time: 35 mins)\n",
    "- De La Salle Taft -> UP Diliman (Estimated Time: 55 mins)\n",
    "\n",
    "The route is one-way only. So, the van cannot go back directly to UP Diliman from Ateneo de Manila; rather, it will have to drop by De La Salle Taft first before going to UP Diliman.\n",
    "\n"
   ]
  },
  {
   "cell_type": "code",
   "execution_count": 6,
   "id": "79e3bfe5-9f68-4b8b-9d0e-569501d02318",
   "metadata": {},
   "outputs": [],
   "source": [
    "# NON-INTERACTIVE CODE CELL. YOU MAY RUN THIS CELL, BUT DO NOT EDIT IT.\n",
    "# FOR DEMONSTRATION PURPOSES ONLY. DO NOT EDIT.\n",
    "\n",
    "legs = {\n",
    "     (\"upd\",\"admu\"):{\n",
    "         \"travel_time_mins\":10\n",
    "     },\n",
    "     (\"admu\",\"dlsu\"):{\n",
    "         \"travel_time_mins\":35\n",
    "     },\n",
    "     (\"dlsu\",\"upd\"):{\n",
    "         \"travel_time_mins\":55\n",
    "     }\n",
    "}"
   ]
  },
  {
   "cell_type": "markdown",
   "id": "da5786f8-3272-409d-a1ef-ba66e579c5db",
   "metadata": {},
   "source": [
    "**Write a function called `eta` that takes three positional arguments: (dict) `legs`, (str) `source`, and (str) `destination`. The function should _return_ the estimated number of minutes it will take to reach the destination from the source based on the data stored in the `legs` dictionary.**  \n",
    "\n",
    "Specifications:\n",
    "1. The `legs` dictionary adheres to the schema followed in the demo cell.  \n",
    "2. There may be more legs than shown in the demo cell.\n",
    "3. Any destination can be reached from any source."
   ]
  },
  {
   "cell_type": "code",
   "execution_count": 7,
   "id": "29340823-fcdb-48d3-8995-2b27ea7da6d4",
   "metadata": {},
   "outputs": [
    {
     "data": {
      "text/plain": [
       "90"
      ]
     },
     "execution_count": 7,
     "metadata": {},
     "output_type": "execute_result"
    }
   ],
   "source": [
    "# CODE CELL\n",
    "# PROBLEM 3\n",
    "\n",
    "def eta(legs, source, destination):\n",
    "    \n",
    "    # dump our actual routes here\n",
    "    routes = []\n",
    "    \n",
    "    # this step is important in order to do `legs_list*2` in the for loop below\n",
    "    # just taking advantage of things you can do with lists\n",
    "    legs_list = list(legs)\n",
    "    \n",
    "    # keep doing something until has_arrived == True, note the syntax:\n",
    "    # `while not has_arrived == False:` is the same as\n",
    "    # `while not has_arrived`\n",
    "    has_arrived = False\n",
    "    \n",
    "    # `legs_list*2` because if the source is a middle leg, you want to\n",
    "    # be able to capture the leg behind it (only possible if you\n",
    "    # loop over again)\n",
    "    for leg in legs_list*2:\n",
    "        while not has_arrived:\n",
    "            # one-legger\n",
    "            if (leg[0] == source) and (leg[1] == destination):\n",
    "                routes += [leg]\n",
    "                has_arrived = True\n",
    "            # leg with source only\n",
    "            elif (leg[0] == source) and (leg[1] != destination):\n",
    "                routes += [leg]    # as the first route\n",
    "            # leg with destination only\n",
    "            elif (leg[1] == destination) and len(routes) >= 1:\n",
    "                routes += [leg]\n",
    "                has_arrived = True\n",
    "            # add middle routes only if list is populated already\n",
    "            # makes code useable if more routes data available\n",
    "            elif len(routes) > 0:\n",
    "                routes += [leg]\n",
    "            break   # break out of THIS `while` loop ONLY\n",
    "        \n",
    "    # replace this with dictionary comprehension\n",
    "    routes_detailed = {}\n",
    "    for leg, data in legs.items():\n",
    "        if leg in routes:\n",
    "            routes_detailed[leg] = data\n",
    "            \n",
    "    # replace this with list comprehension\n",
    "    routes_eta = []\n",
    "    for route_value in routes_detailed.values():\n",
    "        routes_eta += [route_value]\n",
    "\n",
    "    # total eta\n",
    "    total_eta = 0\n",
    "    for eta in routes_eta:\n",
    "        total_eta += list(eta.values())[0]\n",
    "\n",
    "    return total_eta\n",
    "\n",
    "eta(legs, \"admu\", \"upd\")"
   ]
  }
 ],
 "metadata": {
  "kernelspec": {
   "display_name": "Python 3",
   "language": "python",
   "name": "python3"
  },
  "language_info": {
   "codemirror_mode": {
    "name": "ipython",
    "version": 3
   },
   "file_extension": ".py",
   "mimetype": "text/x-python",
   "name": "python",
   "nbconvert_exporter": "python",
   "pygments_lexer": "ipython3",
   "version": "3.8.8"
  }
 },
 "nbformat": 4,
 "nbformat_minor": 5
}
